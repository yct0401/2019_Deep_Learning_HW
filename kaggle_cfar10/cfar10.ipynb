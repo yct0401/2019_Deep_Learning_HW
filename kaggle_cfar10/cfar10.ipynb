{
 "cells": [
  {
   "cell_type": "code",
   "execution_count": 25,
   "metadata": {
    "colab": {},
    "colab_type": "code",
    "id": "OIkUc8MbQHpq"
   },
   "outputs": [],
   "source": [
    "import tensorflow as tf\n",
    "import os\n",
    "import cv2\n",
    "import numpy as np"
   ]
  },
  {
   "cell_type": "code",
   "execution_count": 2,
   "metadata": {
    "colab": {},
    "colab_type": "code",
    "id": "yIxqQWfIy_DE"
   },
   "outputs": [],
   "source": [
    "import csv\n",
    "\n",
    "train_dict = {}\n",
    "\n",
    "with open('train_labels.csv', newline='') as csvfile:\n",
    "    rows = csv.reader(csvfile)\n",
    "    for row in rows:\n",
    "        train_dict[str(row[0])] = row[1] "
   ]
  },
  {
   "cell_type": "code",
   "execution_count": 3,
   "metadata": {
    "colab": {
     "base_uri": "https://localhost:8080/",
     "height": 52
    },
    "colab_type": "code",
    "executionInfo": {
     "elapsed": 850,
     "status": "ok",
     "timestamp": 1573408551543,
     "user": {
      "displayName": "俊廷葉",
      "photoUrl": "",
      "userId": "01226195771165217743"
     },
     "user_tz": -480
    },
    "id": "-20JsEbO5sZ_",
    "outputId": "a69e425e-7513-45bc-f306-b8f46e052a27"
   },
   "outputs": [
    {
     "name": "stdout",
     "output_type": "stream",
     "text": [
      "6\n",
      "9\n"
     ]
    }
   ],
   "source": [
    "print(train_dict['1'])\n",
    "print(train_dict['2'])"
   ]
  },
  {
   "cell_type": "code",
   "execution_count": 4,
   "metadata": {
    "colab": {},
    "colab_type": "code",
    "id": "cpmaTnDP6-yn"
   },
   "outputs": [],
   "source": [
    "path = \"./train\"\n",
    "nrows = 32\n",
    "ncols = 32"
   ]
  },
  {
   "cell_type": "code",
   "execution_count": 5,
   "metadata": {
    "colab": {},
    "colab_type": "code",
    "id": "aMnKNlutPzn2"
   },
   "outputs": [],
   "source": [
    "dirs = os.listdir(path)"
   ]
  },
  {
   "cell_type": "code",
   "execution_count": 16,
   "metadata": {
    "colab": {},
    "colab_type": "code",
    "id": "tWp2ON-hPBJM"
   },
   "outputs": [],
   "source": [
    "data_X = []\n",
    "data_y = []\n",
    "dirs = os.listdir(path)\n",
    "for pic_name in dirs:\n",
    "    img = cv2.resize(cv2.imread(path+\"/\"+pic_name) ,(nrows,ncols), interpolation=cv2.INTER_CUBIC)\n",
    "    data_X.append(img)\n",
    "    data_y.append(train_dict[str.split(pic_name, '.')[0]])\n",
    "data_X = np.array(data_X)\n",
    "data_y = np.array(data_y)  "
   ]
  },
  {
   "cell_type": "code",
   "execution_count": 17,
   "metadata": {
    "colab": {
     "base_uri": "https://localhost:8080/",
     "height": 67
    },
    "colab_type": "code",
    "executionInfo": {
     "elapsed": 707,
     "status": "ok",
     "timestamp": 1573408568368,
     "user": {
      "displayName": "俊廷葉",
      "photoUrl": "",
      "userId": "01226195771165217743"
     },
     "user_tz": -480
    },
    "id": "N8X92yTXRUvN",
    "outputId": "5df06985-6eab-43b8-ff37-1804fab692c9"
   },
   "outputs": [
    {
     "data": {
      "image/png": "[encoded data removed]",
      "text/plain": [
       "<PIL.Image.Image image mode=RGB size=32x32 at 0x7F942FDB14A8>"
      ]
     },
     "metadata": {},
     "output_type": "display_data"
    },
    {
     "name": "stdout",
     "output_type": "stream",
     "text": [
      "8\n"
     ]
    }
   ],
   "source": [
    "from PIL import Image\n",
    "from IPython.display import display\n",
    "# airplane -0 automobile -1 bird -2 cat -3 deer -4 dog -5 frog -6 horse -7 ship -8 truck -9\n",
    "display(Image.fromarray(data_X[0].astype('uint8')))\n",
    "print(data_y[0])"
   ]
  },
  {
   "cell_type": "code",
   "execution_count": 7,
   "metadata": {
    "colab": {},
    "colab_type": "code",
    "id": "u3A-H01Gqfxv"
   },
   "outputs": [],
   "source": [
    "data_y = tf.keras.utils.to_categorical(data_y)"
   ]
  },
  {
   "cell_type": "code",
   "execution_count": 8,
   "metadata": {
    "colab": {
     "base_uri": "https://localhost:8080/",
     "height": 35
    },
    "colab_type": "code",
    "executionInfo": {
     "elapsed": 631,
     "status": "ok",
     "timestamp": 1573409205552,
     "user": {
      "displayName": "俊廷葉",
      "photoUrl": "",
      "userId": "01226195771165217743"
     },
     "user_tz": -480
    },
    "id": "UzawY55UfwgK",
    "outputId": "11200e5c-07e2-49db-a8e5-d45dea76c773"
   },
   "outputs": [
    {
     "data": {
      "text/plain": [
       "(47500, 32, 32, 3)"
      ]
     },
     "execution_count": 8,
     "metadata": {},
     "output_type": "execute_result"
    }
   ],
   "source": [
    "data_X.shape"
   ]
  },
  {
   "cell_type": "code",
   "execution_count": null,
   "metadata": {
    "colab": {},
    "colab_type": "code",
    "id": "yuJvIJrPsecm"
   },
   "outputs": [],
   "source": [
    "data_X = data_X.astype('float16')\n",
    "data_y = data_y.astype('float16')  "
   ]
  },
  {
   "cell_type": "code",
   "execution_count": 22,
   "metadata": {
    "colab": {},
    "colab_type": "code",
    "id": "ncbX8oWMY1L9"
   },
   "outputs": [],
   "source": [
    "from sklearn.model_selection import train_test_split\n",
    "x_train, x_test, y_train, y_test = train_test_split(data_X, data_y, test_size=0.1, random_state=42)"
   ]
  },
  {
   "cell_type": "code",
   "execution_count": 10,
   "metadata": {
    "colab": {},
    "colab_type": "code",
    "id": "APdsYdDCZdHr"
   },
   "outputs": [],
   "source": [
    "x_test = x_train\n",
    "y_test = y_train"
   ]
  },
  {
   "cell_type": "code",
   "execution_count": 23,
   "metadata": {
    "colab": {
     "base_uri": "https://localhost:8080/",
     "height": 88
    },
    "colab_type": "code",
    "executionInfo": {
     "elapsed": 691,
     "status": "ok",
     "timestamp": 1573412668833,
     "user": {
      "displayName": "俊廷葉",
      "photoUrl": "",
      "userId": "01226195771165217743"
     },
     "user_tz": -480
    },
    "id": "t1IgM2QzZe5b",
    "outputId": "8fbbb612-2990-42fd-ae95-2cabfaa69606"
   },
   "outputs": [
    {
     "name": "stdout",
     "output_type": "stream",
     "text": [
      "(42750, 32, 32, 3)\n",
      "(4750, 32, 32, 3)\n",
      "(42750,)\n",
      "(4750,)\n"
     ]
    }
   ],
   "source": [
    "print(x_train.shape)\n",
    "print(x_test.shape)\n",
    "print(y_train.shape)\n",
    "print(y_test.shape)"
   ]
  },
  {
   "cell_type": "code",
   "execution_count": 12,
   "metadata": {
    "colab": {},
    "colab_type": "code",
    "id": "Hywouc5TY0PH"
   },
   "outputs": [],
   "source": [
    "import tensorflow.keras as keras\n",
    "from tensorflow.keras.models import Sequential\n",
    "from tensorflow.keras.optimizers import Adam\n",
    "import tensorflow.keras.utils as np_utils\n",
    "from tensorflow.keras.preprocessing.image import ImageDataGenerator\n",
    "from tensorflow.keras.layers import Dense, Activation, Flatten, Dropout, BatchNormalization\n",
    "from tensorflow.keras.layers import Conv2D, MaxPooling2D\n",
    "from tensorflow.keras.datasets import cifar10\n",
    "from tensorflow.keras import regularizers\n",
    "from tensorflow.keras.callbacks import LearningRateScheduler\n",
    "import numpy as np"
   ]
  },
  {
   "cell_type": "code",
   "execution_count": 26,
   "metadata": {},
   "outputs": [
    {
     "name": "stdout",
     "output_type": "stream",
     "text": [
      "_________________________________________________________________\n",
      "Layer (type)                 Output Shape              Param #   \n",
      "=================================================================\n",
      "conv2d_18 (Conv2D)           (None, 32, 32, 32)        896       \n",
      "_________________________________________________________________\n",
      "activation_18 (Activation)   (None, 32, 32, 32)        0         \n",
      "_________________________________________________________________\n",
      "batch_normalization_18 (Batc (None, 32, 32, 32)        128       \n",
      "_________________________________________________________________\n",
      "conv2d_19 (Conv2D)           (None, 32, 32, 32)        9248      \n",
      "_________________________________________________________________\n",
      "activation_19 (Activation)   (None, 32, 32, 32)        0         \n",
      "_________________________________________________________________\n",
      "batch_normalization_19 (Batc (None, 32, 32, 32)        128       \n",
      "_________________________________________________________________\n",
      "max_pooling2d_9 (MaxPooling2 (None, 16, 16, 32)        0         \n",
      "_________________________________________________________________\n",
      "dropout_9 (Dropout)          (None, 16, 16, 32)        0         \n",
      "_________________________________________________________________\n",
      "conv2d_20 (Conv2D)           (None, 16, 16, 64)        18496     \n",
      "_________________________________________________________________\n",
      "activation_20 (Activation)   (None, 16, 16, 64)        0         \n",
      "_________________________________________________________________\n",
      "batch_normalization_20 (Batc (None, 16, 16, 64)        256       \n",
      "_________________________________________________________________\n",
      "conv2d_21 (Conv2D)           (None, 16, 16, 64)        36928     \n",
      "_________________________________________________________________\n",
      "activation_21 (Activation)   (None, 16, 16, 64)        0         \n",
      "_________________________________________________________________\n",
      "batch_normalization_21 (Batc (None, 16, 16, 64)        256       \n",
      "_________________________________________________________________\n",
      "max_pooling2d_10 (MaxPooling (None, 8, 8, 64)          0         \n",
      "_________________________________________________________________\n",
      "dropout_10 (Dropout)         (None, 8, 8, 64)          0         \n",
      "_________________________________________________________________\n",
      "conv2d_22 (Conv2D)           (None, 8, 8, 128)         73856     \n",
      "_________________________________________________________________\n",
      "activation_22 (Activation)   (None, 8, 8, 128)         0         \n",
      "_________________________________________________________________\n",
      "batch_normalization_22 (Batc (None, 8, 8, 128)         512       \n",
      "_________________________________________________________________\n",
      "conv2d_23 (Conv2D)           (None, 8, 8, 128)         147584    \n",
      "_________________________________________________________________\n",
      "activation_23 (Activation)   (None, 8, 8, 128)         0         \n",
      "_________________________________________________________________\n",
      "batch_normalization_23 (Batc (None, 8, 8, 128)         512       \n",
      "_________________________________________________________________\n",
      "max_pooling2d_11 (MaxPooling (None, 4, 4, 128)         0         \n",
      "_________________________________________________________________\n",
      "dropout_11 (Dropout)         (None, 4, 4, 128)         0         \n",
      "_________________________________________________________________\n",
      "flatten_3 (Flatten)          (None, 2048)              0         \n",
      "_________________________________________________________________\n",
      "dense_3 (Dense)              (None, 10)                20490     \n",
      "=================================================================\n",
      "Total params: 309,290\n",
      "Trainable params: 308,394\n",
      "Non-trainable params: 896\n",
      "_________________________________________________________________\n",
      "Epoch 1/125\n",
      "781/781 [==============================] - 18s 23ms/step - loss: 1.8733 - acc: 0.4311 - val_loss: 1.5251 - val_acc: 0.5526\n",
      "Epoch 2/125\n",
      "781/781 [==============================] - 17s 22ms/step - loss: 1.2675 - acc: 0.5918 - val_loss: 1.1027 - val_acc: 0.6599\n",
      "Epoch 3/125\n",
      "781/781 [==============================] - 17s 22ms/step - loss: 1.0780 - acc: 0.6542 - val_loss: 1.1562 - val_acc: 0.6493\n",
      "Epoch 4/125\n",
      "781/781 [==============================] - 17s 22ms/step - loss: 0.9727 - acc: 0.6943 - val_loss: 0.8592 - val_acc: 0.7399\n",
      "Epoch 5/125\n",
      "781/781 [==============================] - 17s 22ms/step - loss: 0.9097 - acc: 0.7135 - val_loss: 0.9032 - val_acc: 0.7294\n",
      "Epoch 6/125\n",
      "781/781 [==============================] - 18s 23ms/step - loss: 0.8638 - acc: 0.7350 - val_loss: 0.8611 - val_acc: 0.7483\n",
      "Epoch 7/125\n",
      "781/781 [==============================] - 17s 22ms/step - loss: 0.8299 - acc: 0.7485 - val_loss: 0.7940 - val_acc: 0.7689\n",
      "Epoch 8/125\n",
      "781/781 [==============================] - 18s 22ms/step - loss: 0.8043 - acc: 0.7584 - val_loss: 0.8412 - val_acc: 0.7655\n",
      "Epoch 9/125\n",
      "781/781 [==============================] - 18s 22ms/step - loss: 0.7791 - acc: 0.7697 - val_loss: 0.7743 - val_acc: 0.7745\n",
      "Epoch 10/125\n",
      "781/781 [==============================] - 17s 22ms/step - loss: 0.7571 - acc: 0.7807 - val_loss: 0.7657 - val_acc: 0.7832\n",
      "Epoch 11/125\n",
      "781/781 [==============================] - 17s 22ms/step - loss: 0.7430 - acc: 0.7856 - val_loss: 0.8599 - val_acc: 0.7570\n",
      "Epoch 12/125\n",
      "781/781 [==============================] - 17s 22ms/step - loss: 0.7302 - acc: 0.7891 - val_loss: 0.7158 - val_acc: 0.8038\n",
      "Epoch 13/125\n",
      "781/781 [==============================] - 17s 22ms/step - loss: 0.7178 - acc: 0.7969 - val_loss: 0.6792 - val_acc: 0.8134\n",
      "Epoch 14/125\n",
      "781/781 [==============================] - 18s 22ms/step - loss: 0.7072 - acc: 0.8022 - val_loss: 0.7012 - val_acc: 0.8094\n",
      "Epoch 15/125\n",
      "781/781 [==============================] - 17s 22ms/step - loss: 0.6940 - acc: 0.8035 - val_loss: 0.7007 - val_acc: 0.8152\n",
      "Epoch 16/125\n",
      "781/781 [==============================] - 17s 22ms/step - loss: 0.6873 - acc: 0.8074 - val_loss: 0.6542 - val_acc: 0.8256\n",
      "Epoch 17/125\n",
      "781/781 [==============================] - 17s 22ms/step - loss: 0.6776 - acc: 0.8126 - val_loss: 0.7026 - val_acc: 0.8167\n",
      "Epoch 18/125\n",
      "781/781 [==============================] - 17s 22ms/step - loss: 0.6759 - acc: 0.8121 - val_loss: 0.6159 - val_acc: 0.8364\n",
      "Epoch 19/125\n",
      "781/781 [==============================] - 17s 22ms/step - loss: 0.6654 - acc: 0.8164 - val_loss: 0.6569 - val_acc: 0.8288\n",
      "Epoch 20/125\n",
      "781/781 [==============================] - 17s 22ms/step - loss: 0.6628 - acc: 0.8175 - val_loss: 0.6670 - val_acc: 0.8205\n",
      "Epoch 21/125\n",
      "781/781 [==============================] - 17s 22ms/step - loss: 0.6563 - acc: 0.8198 - val_loss: 0.6508 - val_acc: 0.8305\n",
      "Epoch 22/125\n",
      "781/781 [==============================] - 17s 22ms/step - loss: 0.6544 - acc: 0.8219 - val_loss: 0.6298 - val_acc: 0.8339\n",
      "Epoch 23/125\n",
      "781/781 [==============================] - 18s 22ms/step - loss: 0.6498 - acc: 0.8255 - val_loss: 0.6591 - val_acc: 0.8264\n",
      "Epoch 24/125\n",
      "781/781 [==============================] - 17s 22ms/step - loss: 0.6449 - acc: 0.8256 - val_loss: 0.6646 - val_acc: 0.8283\n",
      "Epoch 25/125\n",
      "781/781 [==============================] - 17s 22ms/step - loss: 0.6425 - acc: 0.8276 - val_loss: 0.6321 - val_acc: 0.8353\n",
      "Epoch 26/125\n",
      "781/781 [==============================] - 17s 22ms/step - loss: 0.6376 - acc: 0.8294 - val_loss: 0.5927 - val_acc: 0.8514\n",
      "Epoch 27/125\n",
      "781/781 [==============================] - 17s 22ms/step - loss: 0.6345 - acc: 0.8300 - val_loss: 0.5792 - val_acc: 0.8519\n",
      "Epoch 28/125\n",
      "781/781 [==============================] - 17s 22ms/step - loss: 0.6273 - acc: 0.8331 - val_loss: 0.6247 - val_acc: 0.8383\n",
      "Epoch 29/125\n",
      "781/781 [==============================] - 18s 22ms/step - loss: 0.6297 - acc: 0.8321 - val_loss: 0.6109 - val_acc: 0.8454\n",
      "Epoch 30/125\n",
      "781/781 [==============================] - 17s 22ms/step - loss: 0.6244 - acc: 0.8343 - val_loss: 0.6153 - val_acc: 0.8423\n",
      "Epoch 31/125\n",
      "781/781 [==============================] - 17s 22ms/step - loss: 0.6226 - acc: 0.8356 - val_loss: 0.6669 - val_acc: 0.8362\n",
      "Epoch 32/125\n",
      "781/781 [==============================] - 17s 22ms/step - loss: 0.6187 - acc: 0.8371 - val_loss: 0.6456 - val_acc: 0.8326\n",
      "Epoch 33/125\n",
      "781/781 [==============================] - 17s 22ms/step - loss: 0.6175 - acc: 0.8380 - val_loss: 0.5887 - val_acc: 0.8589\n",
      "Epoch 34/125\n",
      "781/781 [==============================] - 17s 22ms/step - loss: 0.6150 - acc: 0.8387 - val_loss: 0.5747 - val_acc: 0.8578\n",
      "Epoch 35/125\n",
      "781/781 [==============================] - 17s 22ms/step - loss: 0.6194 - acc: 0.8387 - val_loss: 0.6021 - val_acc: 0.8492\n",
      "Epoch 36/125\n",
      "781/781 [==============================] - 17s 22ms/step - loss: 0.6110 - acc: 0.8398 - val_loss: 0.7048 - val_acc: 0.8217\n",
      "Epoch 37/125\n",
      "781/781 [==============================] - 17s 22ms/step - loss: 0.6088 - acc: 0.8416 - val_loss: 0.6413 - val_acc: 0.8401\n",
      "Epoch 38/125\n",
      "781/781 [==============================] - 17s 22ms/step - loss: 0.6113 - acc: 0.8405 - val_loss: 0.6164 - val_acc: 0.8478\n",
      "Epoch 39/125\n",
      "781/781 [==============================] - 17s 22ms/step - loss: 0.6056 - acc: 0.8417 - val_loss: 0.6112 - val_acc: 0.8484\n",
      "Epoch 40/125\n",
      "781/781 [==============================] - 17s 22ms/step - loss: 0.6087 - acc: 0.8429 - val_loss: 0.5807 - val_acc: 0.8541\n",
      "Epoch 41/125\n",
      "781/781 [==============================] - 17s 22ms/step - loss: 0.6060 - acc: 0.8426 - val_loss: 0.6225 - val_acc: 0.8368\n",
      "Epoch 42/125\n",
      "781/781 [==============================] - 17s 22ms/step - loss: 0.6050 - acc: 0.8428 - val_loss: 0.5854 - val_acc: 0.8568\n",
      "Epoch 43/125\n",
      "781/781 [==============================] - 17s 22ms/step - loss: 0.5992 - acc: 0.8450 - val_loss: 0.6204 - val_acc: 0.8502\n",
      "Epoch 44/125\n",
      "781/781 [==============================] - 17s 22ms/step - loss: 0.6017 - acc: 0.8446 - val_loss: 0.6215 - val_acc: 0.8498\n",
      "Epoch 45/125\n",
      "781/781 [==============================] - 17s 22ms/step - loss: 0.5995 - acc: 0.8438 - val_loss: 0.5749 - val_acc: 0.8579\n",
      "Epoch 46/125\n",
      "781/781 [==============================] - 17s 22ms/step - loss: 0.5999 - acc: 0.8447 - val_loss: 0.5609 - val_acc: 0.8655\n",
      "Epoch 47/125\n",
      "781/781 [==============================] - 18s 22ms/step - loss: 0.5924 - acc: 0.8489 - val_loss: 0.6722 - val_acc: 0.8300\n",
      "Epoch 48/125\n",
      "781/781 [==============================] - 17s 22ms/step - loss: 0.5958 - acc: 0.8473 - val_loss: 0.5537 - val_acc: 0.8675\n",
      "Epoch 49/125\n",
      "781/781 [==============================] - 17s 22ms/step - loss: 0.5993 - acc: 0.8430 - val_loss: 0.5575 - val_acc: 0.8603\n",
      "Epoch 50/125\n",
      "781/781 [==============================] - 17s 22ms/step - loss: 0.5915 - acc: 0.8488 - val_loss: 0.6880 - val_acc: 0.8311\n",
      "Epoch 51/125\n",
      "781/781 [==============================] - 17s 22ms/step - loss: 0.5839 - acc: 0.8522 - val_loss: 0.7018 - val_acc: 0.8320\n",
      "Epoch 52/125\n",
      "781/781 [==============================] - 17s 22ms/step - loss: 0.5924 - acc: 0.8483 - val_loss: 0.6488 - val_acc: 0.8393\n",
      "Epoch 53/125\n",
      "781/781 [==============================] - 17s 22ms/step - loss: 0.5854 - acc: 0.8517 - val_loss: 0.5734 - val_acc: 0.8578\n",
      "Epoch 54/125\n",
      "781/781 [==============================] - 17s 22ms/step - loss: 0.5877 - acc: 0.8501 - val_loss: 0.5878 - val_acc: 0.8556\n",
      "Epoch 55/125\n",
      "781/781 [==============================] - 16s 21ms/step - loss: 0.5896 - acc: 0.8506 - val_loss: 0.5891 - val_acc: 0.8542\n",
      "Epoch 56/125\n",
      "781/781 [==============================] - 17s 22ms/step - loss: 0.5889 - acc: 0.8498 - val_loss: 0.6192 - val_acc: 0.8533\n",
      "Epoch 57/125\n",
      "781/781 [==============================] - 17s 22ms/step - loss: 0.5845 - acc: 0.8515 - val_loss: 0.6333 - val_acc: 0.8487\n",
      "Epoch 58/125\n",
      "781/781 [==============================] - 17s 22ms/step - loss: 0.5864 - acc: 0.8510 - val_loss: 0.5832 - val_acc: 0.8580\n",
      "Epoch 59/125\n",
      "781/781 [==============================] - 18s 23ms/step - loss: 0.5832 - acc: 0.8511 - val_loss: 0.5727 - val_acc: 0.8593\n",
      "Epoch 60/125\n",
      "781/781 [==============================] - 18s 22ms/step - loss: 0.5803 - acc: 0.8527 - val_loss: 0.5862 - val_acc: 0.8581\n",
      "Epoch 61/125\n",
      "781/781 [==============================] - 17s 22ms/step - loss: 0.5787 - acc: 0.8524 - val_loss: 0.5792 - val_acc: 0.8632\n",
      "Epoch 62/125\n",
      "781/781 [==============================] - 17s 22ms/step - loss: 0.5875 - acc: 0.8510 - val_loss: 0.5981 - val_acc: 0.8521\n",
      "Epoch 63/125\n",
      "781/781 [==============================] - 17s 22ms/step - loss: 0.5842 - acc: 0.8511 - val_loss: 0.6033 - val_acc: 0.8496\n",
      "Epoch 64/125\n",
      "781/781 [==============================] - 18s 23ms/step - loss: 0.5769 - acc: 0.8557 - val_loss: 0.6064 - val_acc: 0.8524\n",
      "Epoch 65/125\n",
      "781/781 [==============================] - 18s 23ms/step - loss: 0.5818 - acc: 0.8536 - val_loss: 0.5475 - val_acc: 0.8720\n",
      "Epoch 66/125\n",
      "781/781 [==============================] - 18s 23ms/step - loss: 0.5776 - acc: 0.8537 - val_loss: 0.6154 - val_acc: 0.8493\n",
      "Epoch 67/125\n",
      "781/781 [==============================] - 18s 22ms/step - loss: 0.5755 - acc: 0.8569 - val_loss: 0.6319 - val_acc: 0.8382\n",
      "Epoch 68/125\n",
      "781/781 [==============================] - 17s 22ms/step - loss: 0.5758 - acc: 0.8544 - val_loss: 0.6256 - val_acc: 0.8496\n",
      "Epoch 69/125\n",
      "781/781 [==============================] - 18s 22ms/step - loss: 0.5769 - acc: 0.8539 - val_loss: 0.6003 - val_acc: 0.8530\n",
      "Epoch 70/125\n",
      "781/781 [==============================] - 17s 22ms/step - loss: 0.5725 - acc: 0.8549 - val_loss: 0.5776 - val_acc: 0.8633\n",
      "Epoch 71/125\n",
      "781/781 [==============================] - 17s 22ms/step - loss: 0.5783 - acc: 0.8548 - val_loss: 0.5525 - val_acc: 0.8707\n",
      "Epoch 72/125\n",
      "781/781 [==============================] - 17s 22ms/step - loss: 0.5779 - acc: 0.8543 - val_loss: 0.5530 - val_acc: 0.8678\n",
      "Epoch 73/125\n",
      "781/781 [==============================] - 17s 22ms/step - loss: 0.5720 - acc: 0.8566 - val_loss: 0.5946 - val_acc: 0.8547\n",
      "Epoch 74/125\n",
      "781/781 [==============================] - 17s 22ms/step - loss: 0.5701 - acc: 0.8581 - val_loss: 0.5853 - val_acc: 0.8586\n",
      "Epoch 75/125\n",
      "781/781 [==============================] - 17s 22ms/step - loss: 0.5764 - acc: 0.8547 - val_loss: 0.5621 - val_acc: 0.8602\n",
      "Epoch 76/125\n",
      "781/781 [==============================] - 17s 22ms/step - loss: 0.5732 - acc: 0.8565 - val_loss: 0.5596 - val_acc: 0.8642\n",
      "Epoch 77/125\n",
      "781/781 [==============================] - 17s 22ms/step - loss: 0.5273 - acc: 0.8722 - val_loss: 0.5385 - val_acc: 0.8731\n",
      "Epoch 78/125\n",
      "781/781 [==============================] - 17s 22ms/step - loss: 0.5089 - acc: 0.8751 - val_loss: 0.5737 - val_acc: 0.8630\n",
      "Epoch 79/125\n",
      "781/781 [==============================] - 18s 23ms/step - loss: 0.5017 - acc: 0.8772 - val_loss: 0.5325 - val_acc: 0.8745\n",
      "Epoch 80/125\n",
      "781/781 [==============================] - 17s 22ms/step - loss: 0.4993 - acc: 0.8766 - val_loss: 0.5075 - val_acc: 0.8797\n",
      "Epoch 81/125\n",
      "781/781 [==============================] - 17s 22ms/step - loss: 0.4869 - acc: 0.8793 - val_loss: 0.5417 - val_acc: 0.8681\n",
      "Epoch 82/125\n",
      "781/781 [==============================] - 17s 22ms/step - loss: 0.4921 - acc: 0.8761 - val_loss: 0.5328 - val_acc: 0.8741\n",
      "Epoch 83/125\n",
      "781/781 [==============================] - 17s 22ms/step - loss: 0.4844 - acc: 0.8785 - val_loss: 0.5258 - val_acc: 0.8735\n",
      "Epoch 84/125\n",
      "781/781 [==============================] - 17s 22ms/step - loss: 0.4791 - acc: 0.8778 - val_loss: 0.4940 - val_acc: 0.8810\n",
      "Epoch 85/125\n",
      "781/781 [==============================] - 17s 22ms/step - loss: 0.4742 - acc: 0.8816 - val_loss: 0.5304 - val_acc: 0.8719\n",
      "Epoch 86/125\n",
      "781/781 [==============================] - 17s 22ms/step - loss: 0.4802 - acc: 0.8787 - val_loss: 0.4996 - val_acc: 0.8823\n",
      "Epoch 87/125\n",
      "781/781 [==============================] - 17s 22ms/step - loss: 0.4740 - acc: 0.8813 - val_loss: 0.5167 - val_acc: 0.8749\n",
      "Epoch 88/125\n",
      "781/781 [==============================] - 17s 22ms/step - loss: 0.4744 - acc: 0.8802 - val_loss: 0.5183 - val_acc: 0.8753\n",
      "Epoch 89/125\n",
      "781/781 [==============================] - 17s 22ms/step - loss: 0.4683 - acc: 0.8815 - val_loss: 0.5137 - val_acc: 0.8728\n",
      "Epoch 90/125\n",
      "781/781 [==============================] - 17s 22ms/step - loss: 0.4696 - acc: 0.8806 - val_loss: 0.5072 - val_acc: 0.8765\n",
      "Epoch 91/125\n",
      "781/781 [==============================] - 18s 22ms/step - loss: 0.4643 - acc: 0.8819 - val_loss: 0.4966 - val_acc: 0.8785\n",
      "Epoch 92/125\n",
      "781/781 [==============================] - 17s 22ms/step - loss: 0.4622 - acc: 0.8832 - val_loss: 0.4873 - val_acc: 0.8807\n",
      "Epoch 93/125\n",
      "781/781 [==============================] - 17s 22ms/step - loss: 0.4622 - acc: 0.8825 - val_loss: 0.5262 - val_acc: 0.8707\n",
      "Epoch 94/125\n",
      "781/781 [==============================] - 17s 22ms/step - loss: 0.4599 - acc: 0.8820 - val_loss: 0.5301 - val_acc: 0.8677\n",
      "Epoch 95/125\n",
      "781/781 [==============================] - 17s 22ms/step - loss: 0.4641 - acc: 0.8816 - val_loss: 0.5164 - val_acc: 0.8722\n",
      "Epoch 96/125\n",
      "781/781 [==============================] - 17s 22ms/step - loss: 0.4546 - acc: 0.8835 - val_loss: 0.4990 - val_acc: 0.8774\n",
      "Epoch 97/125\n",
      "781/781 [==============================] - 17s 21ms/step - loss: 0.4575 - acc: 0.8838 - val_loss: 0.4815 - val_acc: 0.8807\n",
      "Epoch 98/125\n",
      "781/781 [==============================] - 17s 22ms/step - loss: 0.4593 - acc: 0.8817 - val_loss: 0.5163 - val_acc: 0.8710\n",
      "Epoch 99/125\n",
      "781/781 [==============================] - 17s 22ms/step - loss: 0.4529 - acc: 0.8833 - val_loss: 0.5387 - val_acc: 0.8679\n",
      "Epoch 100/125\n",
      "781/781 [==============================] - 17s 22ms/step - loss: 0.4533 - acc: 0.8836 - val_loss: 0.5555 - val_acc: 0.8624\n",
      "Epoch 101/125\n",
      "781/781 [==============================] - 17s 22ms/step - loss: 0.4561 - acc: 0.8807 - val_loss: 0.4845 - val_acc: 0.8772\n",
      "Epoch 102/125\n",
      "781/781 [==============================] - 17s 22ms/step - loss: 0.4332 - acc: 0.8904 - val_loss: 0.4740 - val_acc: 0.8839\n",
      "Epoch 103/125\n",
      "781/781 [==============================] - 17s 22ms/step - loss: 0.4245 - acc: 0.8920 - val_loss: 0.4758 - val_acc: 0.8849\n",
      "Epoch 104/125\n",
      "781/781 [==============================] - 17s 22ms/step - loss: 0.4275 - acc: 0.8902 - val_loss: 0.4834 - val_acc: 0.8828\n",
      "Epoch 105/125\n",
      "781/781 [==============================] - 17s 22ms/step - loss: 0.4162 - acc: 0.8947 - val_loss: 0.4920 - val_acc: 0.8798\n",
      "Epoch 106/125\n",
      "781/781 [==============================] - 17s 22ms/step - loss: 0.4165 - acc: 0.8943 - val_loss: 0.4826 - val_acc: 0.8821\n",
      "Epoch 107/125\n",
      "781/781 [==============================] - 17s 22ms/step - loss: 0.4116 - acc: 0.8950 - val_loss: 0.4661 - val_acc: 0.8885\n",
      "Epoch 108/125\n",
      "781/781 [==============================] - 17s 22ms/step - loss: 0.4081 - acc: 0.8949 - val_loss: 0.4752 - val_acc: 0.8827\n",
      "Epoch 109/125\n",
      "781/781 [==============================] - 18s 22ms/step - loss: 0.4084 - acc: 0.8960 - val_loss: 0.4704 - val_acc: 0.8827\n",
      "Epoch 110/125\n",
      "781/781 [==============================] - 17s 22ms/step - loss: 0.4108 - acc: 0.8948 - val_loss: 0.4985 - val_acc: 0.8775\n",
      "Epoch 111/125\n",
      "781/781 [==============================] - 17s 22ms/step - loss: 0.4061 - acc: 0.8968 - val_loss: 0.4867 - val_acc: 0.8787\n",
      "Epoch 112/125\n",
      "781/781 [==============================] - 17s 22ms/step - loss: 0.4079 - acc: 0.8964 - val_loss: 0.4641 - val_acc: 0.8826\n",
      "Epoch 113/125\n",
      "781/781 [==============================] - 17s 22ms/step - loss: 0.4078 - acc: 0.8934 - val_loss: 0.4839 - val_acc: 0.8824\n",
      "Epoch 114/125\n",
      "781/781 [==============================] - 17s 22ms/step - loss: 0.4043 - acc: 0.8962 - val_loss: 0.4454 - val_acc: 0.8892\n",
      "Epoch 115/125\n",
      "781/781 [==============================] - 17s 22ms/step - loss: 0.4056 - acc: 0.8939 - val_loss: 0.4532 - val_acc: 0.8854\n",
      "Epoch 116/125\n",
      "781/781 [==============================] - 17s 22ms/step - loss: 0.3995 - acc: 0.8967 - val_loss: 0.4572 - val_acc: 0.8890\n",
      "Epoch 117/125\n",
      "781/781 [==============================] - 17s 22ms/step - loss: 0.4032 - acc: 0.8956 - val_loss: 0.5190 - val_acc: 0.8712\n",
      "Epoch 118/125\n",
      "781/781 [==============================] - 17s 22ms/step - loss: 0.3968 - acc: 0.8975 - val_loss: 0.4634 - val_acc: 0.8830\n",
      "Epoch 119/125\n",
      "781/781 [==============================] - 17s 22ms/step - loss: 0.4011 - acc: 0.8962 - val_loss: 0.4552 - val_acc: 0.8845\n",
      "Epoch 120/125\n",
      "781/781 [==============================] - 17s 22ms/step - loss: 0.3938 - acc: 0.8984 - val_loss: 0.4550 - val_acc: 0.8860\n",
      "Epoch 121/125\n",
      "781/781 [==============================] - 17s 22ms/step - loss: 0.3956 - acc: 0.8968 - val_loss: 0.4738 - val_acc: 0.8820\n",
      "Epoch 122/125\n",
      "781/781 [==============================] - 17s 22ms/step - loss: 0.4009 - acc: 0.8957 - val_loss: 0.4514 - val_acc: 0.8864\n",
      "Epoch 123/125\n",
      "781/781 [==============================] - 17s 22ms/step - loss: 0.3912 - acc: 0.8980 - val_loss: 0.4488 - val_acc: 0.8857\n",
      "Epoch 124/125\n",
      "781/781 [==============================] - 17s 22ms/step - loss: 0.3903 - acc: 0.8986 - val_loss: 0.4670 - val_acc: 0.8813\n",
      "Epoch 125/125\n",
      "781/781 [==============================] - 17s 22ms/step - loss: 0.3920 - acc: 0.8979 - val_loss: 0.4424 - val_acc: 0.8927\n"
     ]
    }
   ],
   "source": [
    "def lr_schedule(epoch):\n",
    "    lrate = 0.001\n",
    "    if epoch > 75:\n",
    "        lrate = 0.0005\n",
    "    if epoch > 100:\n",
    "        lrate = 0.0003\n",
    "    return lrate\n",
    " \n",
    "(x_train, y_train), (x_test, y_test) = cifar10.load_data()\n",
    "x_train = x_train.astype('float32')\n",
    "x_test = x_test.astype('float32')\n",
    " \n",
    "#z-score\n",
    "mean = np.mean(x_train,axis=(0,1,2,3))\n",
    "std = np.std(x_train,axis=(0,1,2,3))\n",
    "x_train = (x_train-mean)/(std+1e-7)\n",
    "x_test = (x_test-mean)/(std+1e-7)\n",
    " \n",
    "num_classes = 10\n",
    "y_train = np_utils.to_categorical(y_train,num_classes)\n",
    "y_test = np_utils.to_categorical(y_test,num_classes)\n",
    " \n",
    "weight_decay = 1e-4\n",
    "model = Sequential()\n",
    "model.add(Conv2D(32, (3,3), padding='same', kernel_regularizer=regularizers.l2(weight_decay), input_shape=x_train.shape[1:]))\n",
    "model.add(Activation('elu'))\n",
    "model.add(BatchNormalization())\n",
    "model.add(Conv2D(32, (3,3), padding='same', kernel_regularizer=regularizers.l2(weight_decay)))\n",
    "model.add(Activation('elu'))\n",
    "model.add(BatchNormalization())\n",
    "model.add(MaxPooling2D(pool_size=(2,2)))\n",
    "model.add(Dropout(0.2))\n",
    " \n",
    "model.add(Conv2D(64, (3,3), padding='same', kernel_regularizer=regularizers.l2(weight_decay)))\n",
    "model.add(Activation('elu'))\n",
    "model.add(BatchNormalization())\n",
    "model.add(Conv2D(64, (3,3), padding='same', kernel_regularizer=regularizers.l2(weight_decay)))\n",
    "model.add(Activation('elu'))\n",
    "model.add(BatchNormalization())\n",
    "model.add(MaxPooling2D(pool_size=(2,2)))\n",
    "model.add(Dropout(0.3))\n",
    " \n",
    "model.add(Conv2D(128, (3,3), padding='same', kernel_regularizer=regularizers.l2(weight_decay)))\n",
    "model.add(Activation('elu'))\n",
    "model.add(BatchNormalization())\n",
    "model.add(Conv2D(128, (3,3), padding='same', kernel_regularizer=regularizers.l2(weight_decay)))\n",
    "model.add(Activation('elu'))\n",
    "model.add(BatchNormalization())\n",
    "model.add(MaxPooling2D(pool_size=(2,2)))\n",
    "model.add(Dropout(0.4))\n",
    " \n",
    "model.add(Flatten())\n",
    "model.add(Dense(num_classes, activation='softmax'))\n",
    " \n",
    "model.summary()\n",
    " \n",
    "#data augmentation\n",
    "datagen = ImageDataGenerator(\n",
    "    rotation_range=15,\n",
    "    width_shift_range=0.1,\n",
    "    height_shift_range=0.1,\n",
    "    horizontal_flip=True,\n",
    "    )\n",
    "datagen.fit(x_train)\n",
    " \n",
    "#training\n",
    "batch_size = 64\n",
    " \n",
    "opt_rms = keras.optimizers.RMSprop(lr=0.001,decay=1e-6)\n",
    "model.compile(loss='categorical_crossentropy', optimizer=opt_rms, metrics=['accuracy'])\n",
    "model.fit_generator(datagen.flow(x_train, y_train, batch_size=batch_size),\\\n",
    "                    steps_per_epoch=x_train.shape[0] // batch_size,epochs=125,\\\n",
    "                    verbose=1,validation_data=(x_test,y_test),callbacks=[LearningRateScheduler(lr_schedule)])\n",
    "#save to disk\n",
    "model_json = model.to_json()\n",
    "with open('model.json', 'w') as json_file:\n",
    "    json_file.write(model_json)\n",
    "model.save_weights('model.h5') \n"
   ]
  },
  {
   "cell_type": "code",
   "execution_count": 33,
   "metadata": {
    "colab": {},
    "colab_type": "code",
    "id": "dMyyvW2Zl7uV"
   },
   "outputs": [],
   "source": [
    "import re\n",
    "p1 = re.compile(r'[(](.*?)[)]', re.S)\n",
    "\n",
    "unlabel_X=[]\n",
    "ID = []\n",
    "dirs_t = os.listdir('./finaltest')\n",
    "for pic_name in dirs_t:\n",
    "    img = cv2.resize(cv2.imread(\"./finaltest/\"+pic_name) ,(nrows,ncols), interpolation=cv2.INTER_CUBIC)\n",
    "    unlabel_X.append(img)\n",
    "    ID.append(re.findall(p1, pic_name))\n",
    "unlabel_X = np.array(unlabel_X)\n",
    "unlabel_X = unlabel_X.astype('float16')"
   ]
  },
  {
   "cell_type": "code",
   "execution_count": 29,
   "metadata": {
    "colab": {},
    "colab_type": "code",
    "id": "bejxBEKom2B2"
   },
   "outputs": [],
   "source": [
    "u_mean = np.mean(unlabel_X,axis=(0,1,2,3))\n",
    "u_std = np.std(unlabel_X,axis=(0,1,2,3))"
   ]
  },
  {
   "cell_type": "code",
   "execution_count": 34,
   "metadata": {},
   "outputs": [],
   "source": [
    "unlabel_X = (unlabel_X-mean)/(std+1e-7)"
   ]
  },
  {
   "cell_type": "code",
   "execution_count": 35,
   "metadata": {},
   "outputs": [],
   "source": [
    "unlabel_y = model.predict(unlabel_X)"
   ]
  },
  {
   "cell_type": "code",
   "execution_count": 36,
   "metadata": {
    "colab": {
     "base_uri": "https://localhost:8080/",
     "height": 72
    },
    "colab_type": "code",
    "executionInfo": {
     "elapsed": 721,
     "status": "ok",
     "timestamp": 1573416192864,
     "user": {
      "displayName": "俊廷葉",
      "photoUrl": "",
      "userId": "01226195771165217743"
     },
     "user_tz": -480
    },
    "id": "xaMT6kFGnFEL",
    "outputId": "9e921bc9-b52e-4107-dada-54ea18a3fdc1"
   },
   "outputs": [
    {
     "name": "stdout",
     "output_type": "stream",
     "text": [
      "[1 2 9 ... 1 6 7]\n",
      "[['1270'], ['1407'], ['1861'], ['2'], ['215'], ['2175'], ['2442'], ['548'], ['909'], ['1'], ['10'], ['100'], ['1000'], ['1001'], ['1002'], ['1003'], ['1004'], ['1005'], ['1006'], ['1007'], ['1008'], ['1009'], ['101'], ['1010'], ['1011'], ['1012'], ['1013'], ['1014'], ['1015'], ['1016'], ['1017'], ['1018'], ['1019'], ['102'], ['1020'], ['1021'], ['1022'], ['1023'], ['1024'], ['1025'], ['1026'], ['1027'], ['1028'], ['1029'], ['103'], ['1030'], ['1031'], ['1032'], ['1033'], ['1034'], ['1035'], ['1036'], ['1037'], ['1038'], ['1039'], ['104'], ['1040'], ['1041'], ['1042'], ['1043'], ['1044'], ['1045'], ['1046'], ['1047'], ['1048'], ['1049'], ['105'], ['1050'], ['1051'], ['1052'], ['1053'], ['1054'], ['1055'], ['1056'], ['1057'], ['1058'], ['1059'], ['106'], ['1060'], ['1061'], ['1062'], ['1063'], ['1064'], ['1065'], ['1066'], ['1067'], ['1068'], ['1069'], ['107'], ['1070'], ['1071'], ['1072'], ['1073'], ['1074'], ['1075'], ['1076'], ['1077'], ['1078'], ['1079'], ['108'], ['1080'], ['1081'], ['1082'], ['1083'], ['1084'], ['1085'], ['1086'], ['1087'], ['1088'], ['1089'], ['109'], ['1090'], ['1091'], ['1092'], ['1093'], ['1094'], ['1095'], ['1096'], ['1097'], ['1098'], ['1099'], ['11'], ['110'], ['1100'], ['1101'], ['1102'], ['1103'], ['1104'], ['1105'], ['1106'], ['1107'], ['1108'], ['1109'], ['111'], ['1110'], ['1111'], ['1112'], ['1113'], ['1114'], ['1115'], ['1116'], ['1117'], ['1118'], ['1119'], ['112'], ['1120'], ['1121'], ['1122'], ['1123'], ['1124'], ['1125'], ['1126'], ['1127'], ['1128'], ['1129'], ['113'], ['1130'], ['1131'], ['1132'], ['1133'], ['1134'], ['1135'], ['1136'], ['1137'], ['1138'], ['1139'], ['114'], ['1140'], ['1141'], ['1142'], ['1143'], ['1144'], ['1145'], ['1146'], ['1147'], ['1148'], ['1149'], ['115'], ['1150'], ['1151'], ['1152'], ['1153'], ['1154'], ['1155'], ['1156'], ['1157'], ['1158'], ['1159'], ['116'], ['1160'], ['1161'], ['1162'], ['1163'], ['1164'], ['1165'], ['1166'], ['1167'], ['1168'], ['1169'], ['117'], ['1170'], ['1171'], ['1172'], ['1173'], ['1174'], ['1175'], ['1176'], ['1177'], ['1178'], ['1179'], ['118'], ['1180'], ['1181'], ['1182'], ['1183'], ['1184'], ['1185'], ['1186'], ['1187'], ['1188'], ['1189'], ['119'], ['1190'], ['1191'], ['1192'], ['1193'], ['1194'], ['1195'], ['1196'], ['1197'], ['1198'], ['1199'], ['12'], ['120'], ['1200'], ['1201'], ['1202'], ['1203'], ['1204'], ['1205'], ['1206'], ['1207'], ['1208'], ['1209'], ['121'], ['1210'], ['1211'], ['1212'], ['1213'], ['1214'], ['1215'], ['1216'], ['1217'], ['1218'], ['1219'], ['122'], ['1220'], ['1221'], ['1222'], ['1223'], ['1224'], ['1225'], ['1226'], ['1227'], ['1228'], ['1229'], ['123'], ['1230'], ['1231'], ['1232'], ['1233'], ['1234'], ['1235'], ['1236'], ['1237'], ['1238'], ['1239'], ['124'], ['1240'], ['1241'], ['1242'], ['1243'], ['1244'], ['1245'], ['1246'], ['1247'], ['1248'], ['1249'], ['125'], ['1250'], ['1251'], ['1252'], ['1253'], ['1254'], ['1255'], ['1256'], ['1257'], ['1258'], ['1259'], ['126'], ['1260'], ['1261'], ['1262'], ['1263'], ['1264'], ['1265'], ['1266'], ['1267'], ['1268'], ['1269'], ['127'], ['1271'], ['1272'], ['1273'], ['1274'], ['1275'], ['1276'], ['1277'], ['1278'], ['1279'], ['128'], ['1280'], ['1281'], ['1282'], ['1283'], ['1284'], ['1285'], ['1286'], ['1287'], ['1288'], ['1289'], ['129'], ['1290'], ['1291'], ['1292'], ['1293'], ['1294'], ['1295'], ['1296'], ['1297'], ['1298'], ['1299'], ['13'], ['130'], ['1300'], ['1301'], ['1302'], ['1303'], ['1304'], ['1305'], ['1306'], ['1307'], ['1308'], ['1309'], ['131'], ['1310'], ['1311'], ['1312'], ['1313'], ['1314'], ['1315'], ['1316'], ['1317'], ['1318'], ['1319'], ['132'], ['1320'], ['1321'], ['1322'], ['1323'], ['1324'], ['1325'], ['1326'], ['1327'], ['1328'], ['1329'], ['133'], ['1330'], ['1331'], ['1332'], ['1333'], ['1334'], ['1335'], ['1336'], ['1337'], ['1338'], ['1339'], ['134'], ['1340'], ['1341'], ['1342'], ['1343'], ['1344'], ['1345'], ['1346'], ['1347'], ['1348'], ['1349'], ['135'], ['1350'], ['1351'], ['1352'], ['1353'], ['1354'], ['1355'], ['1356'], ['1357'], ['1358'], ['1359'], ['136'], ['1360'], ['1361'], ['1362'], ['1363'], ['1364'], ['1365'], ['1366'], ['1367'], ['1368'], ['1369'], ['137'], ['1370'], ['1371'], ['1372'], ['1373'], ['1374'], ['1375'], ['1376'], ['1377'], ['1378'], ['1379'], ['138'], ['1380'], ['1381'], ['1382'], ['1383'], ['1384'], ['1385'], ['1386'], ['1387'], ['1388'], ['1389'], ['139'], ['1390'], ['1391'], ['1392'], ['1393'], ['1394'], ['1395'], ['1396'], ['1397'], ['1398'], ['1399'], ['14'], ['140'], ['1400'], ['1401'], ['1402'], ['1403'], ['1404'], ['1405'], ['1406'], ['1408'], ['1409'], ['141'], ['1410'], ['1411'], ['1412'], ['1413'], ['1414'], ['1415'], ['1416'], ['1417'], ['1418'], ['1419'], ['142'], ['1420'], ['1421'], ['1422'], ['1423'], ['1424'], ['1425'], ['1426'], ['1427'], ['1428'], ['1429'], ['143'], ['1430'], ['1431'], ['1432'], ['1433'], ['1434'], ['1435'], ['1436'], ['1437'], ['1438'], ['1439'], ['144'], ['1440'], ['1441'], ['1442'], ['1443'], ['1444'], ['1445'], ['1446'], ['1447'], ['1448'], ['1449'], ['145'], ['1450'], ['1451'], ['1452'], ['1453'], ['1454'], ['1455'], ['1456'], ['1457'], ['1458'], ['1459'], ['146'], ['1460'], ['1461'], ['1462'], ['1463'], ['1464'], ['1465'], ['1466'], ['1467'], ['1468'], ['1469'], ['147'], ['1470'], ['1471'], ['1472'], ['1473'], ['1474'], ['1475'], ['1476'], ['1477'], ['1478'], ['1479'], ['148'], ['1480'], ['1481'], ['1482'], ['1483'], ['1484'], ['1485'], ['1486'], ['1487'], ['1488'], ['1489'], ['149'], ['1490'], ['1491'], ['1492'], ['1493'], ['1494'], ['1495'], ['1496'], ['1497'], ['1498'], ['1499'], ['15'], ['150'], ['1500'], ['1501'], ['1502'], ['1503'], ['1504'], ['1505'], ['1506'], ['1507'], ['1508'], ['1509'], ['151'], ['1510'], ['1511'], ['1512'], ['1513'], ['1514'], ['1515'], ['1516'], ['1517'], ['1518'], ['1519'], ['152'], ['1520'], ['1521'], ['1522'], ['1523'], ['1524'], ['1525'], ['1526'], ['1527'], ['1528'], ['1529'], ['153'], ['1530'], ['1531'], ['1532'], ['1533'], ['1534'], ['1535'], ['1536'], ['1537'], ['1538'], ['1539'], ['154'], ['1540'], ['1541'], ['1542'], ['1543'], ['1544'], ['1545'], ['1546'], ['1547'], ['1548'], ['1549'], ['155'], ['1550'], ['1551'], ['1552'], ['1553'], ['1554'], ['1555'], ['1556'], ['1557'], ['1558'], ['1559'], ['156'], ['1560'], ['1561'], ['1562'], ['1563'], ['1564'], ['1565'], ['1566'], ['1567'], ['1568'], ['1569'], ['157'], ['1570'], ['1571'], ['1572'], ['1573'], ['1574'], ['1575'], ['1576'], ['1577'], ['1578'], ['1579'], ['158'], ['1580'], ['1581'], ['1582'], ['1583'], ['1584'], ['1585'], ['1586'], ['1587'], ['1588'], ['1589'], ['159'], ['1590'], ['1591'], ['1592'], ['1593'], ['1594'], ['1595'], ['1596'], ['1597'], ['1598'], ['1599'], ['16'], ['160'], ['1600'], ['1601'], ['1602'], ['1603'], ['1604'], ['1605'], ['1606'], ['1607'], ['1608'], ['1609'], ['161'], ['1610'], ['1611'], ['1612'], ['1613'], ['1614'], ['1615'], ['1616'], ['1617'], ['1618'], ['1619'], ['162'], ['1620'], ['1621'], ['1622'], ['1623'], ['1624'], ['1625'], ['1626'], ['1627'], ['1628'], ['1629'], ['163'], ['1630'], ['1631'], ['1632'], ['1633'], ['1634'], ['1635'], ['1636'], ['1637'], ['1638'], ['1639'], ['164'], ['1640'], ['1641'], ['1642'], ['1643'], ['1644'], ['1645'], ['1646'], ['1647'], ['1648'], ['1649'], ['165'], ['1650'], ['1651'], ['1652'], ['1653'], ['1654'], ['1655'], ['1656'], ['1657'], ['1658'], ['1659'], ['166'], ['1660'], ['1661'], ['1662'], ['1663'], ['1664'], ['1665'], ['1666'], ['1667'], ['1668'], ['1669'], ['167'], ['1670'], ['1671'], ['1672'], ['1673'], ['1674'], ['1675'], ['1676'], ['1677'], ['1678'], ['1679'], ['168'], ['1680'], ['1681'], ['1682'], ['1683'], ['1684'], ['1685'], ['1686'], ['1687'], ['1688'], ['1689'], ['169'], ['1690'], ['1691'], ['1692'], ['1693'], ['1694'], ['1695'], ['1696'], ['1697'], ['1698'], ['1699'], ['17'], ['170'], ['1700'], ['1701'], ['1702'], ['1703'], ['1704'], ['1705'], ['1706'], ['1707'], ['1708'], ['1709'], ['171'], ['1710'], ['1711'], ['1712'], ['1713'], ['1714'], ['1715'], ['1716'], ['1717'], ['1718'], ['1719'], ['172'], ['1720'], ['1721'], ['1722'], ['1723'], ['1724'], ['1725'], ['1726'], ['1727'], ['1728'], ['1729'], ['173'], ['1730'], ['1731'], ['1732'], ['1733'], ['1734'], ['1735'], ['1736'], ['1737'], ['1738'], ['1739'], ['174'], ['1740'], ['1741'], ['1742'], ['1743'], ['1744'], ['1745'], ['1746'], ['1747'], ['1748'], ['1749'], ['175'], ['1750'], ['1751'], ['1752'], ['1753'], ['1754'], ['1755'], ['1756'], ['1757'], ['1758'], ['1759'], ['176'], ['1760'], ['1761'], ['1762'], ['1763'], ['1764'], ['1765'], ['1766'], ['1767'], ['1768'], ['1769'], ['177'], ['1770'], ['1771'], ['1772'], ['1773'], ['1774'], ['1775'], ['1776'], ['1777'], ['1778'], ['1779'], ['178'], ['1780'], ['1781'], ['1782'], ['1783'], ['1784'], ['1785'], ['1786'], ['1787'], ['1788'], ['1789'], ['179'], ['1790'], ['1791'], ['1792'], ['1793'], ['1794'], ['1795'], ['1796'], ['1797'], ['1798'], ['1799'], ['18'], ['180'], ['1800'], ['1801'], ['1802'], ['1803'], ['1804'], ['1805'], ['1806'], ['1807'], ['1808'], ['1809'], ['181'], ['1810'], ['1811'], ['1812'], ['1813'], ['1814'], ['1815'], ['1816'], ['1817'], ['1818'], ['1819'], ['182'], ['1820'], ['1821'], ['1822'], ['1823'], ['1824'], ['1825'], ['1826'], ['1827'], ['1828'], ['1829'], ['183'], ['1830'], ['1831'], ['1832'], ['1833'], ['1834'], ['1835'], ['1836'], ['1837'], ['1838'], ['1839'], ['184'], ['1840'], ['1841'], ['1842'], ['1843'], ['1844'], ['1845'], ['1846'], ['1847'], ['1848'], ['1849'], ['185'], ['1850'], ['1851'], ['1852'], ['1853'], ['1854'], ['1855'], ['1856'], ['1857'], ['1858'], ['1859'], ['186'], ['1860'], ['1862'], ['1863'], ['1864'], ['1865'], ['1866'], ['1867'], ['1868'], ['1869'], ['187'], ['1870'], ['1871'], ['1872'], ['1873'], ['1874'], ['1875'], ['1876'], ['1877'], ['1878'], ['1879'], ['188'], ['1880'], ['1881'], ['1882'], ['1883'], ['1884'], ['1885'], ['1886'], ['1887'], ['1888'], ['1889'], ['189'], ['1890'], ['1891'], ['1892'], ['1893'], ['1894'], ['1895'], ['1896'], ['1897'], ['1898'], ['1899'], ['19'], ['190'], ['1900'], ['1901'], ['1902'], ['1903'], ['1904'], ['1905'], ['1906'], ['1907'], ['1908'], ['1909'], ['191'], ['1910'], ['1911'], ['1912'], ['1913'], ['1914'], ['1915'], ['1916'], ['1917'], ['1918'], ['1919'], ['192'], ['1920'], ['1921'], ['1922'], ['1923'], ['1924'], ['1925'], ['1926'], ['1927'], ['1928'], ['1929'], ['193'], ['1930'], ['1931'], ['1932'], ['1933'], ['1934'], ['1935'], ['1936'], ['1937'], ['1938'], ['1939'], ['194'], ['1940'], ['1941'], ['1942'], ['1943'], ['1944'], ['1945'], ['1946'], ['1947'], ['1948'], ['1949'], ['195'], ['1950'], ['1951'], ['1952'], ['1953'], ['1954'], ['1955'], ['1956'], ['1957'], ['1958'], ['1959'], ['196'], ['1960'], ['1961'], ['1962'], ['1963'], ['1964'], ['1965'], ['1966'], ['1967'], ['1968'], ['1969'], ['197'], ['1970'], ['1971'], ['1972'], ['1973'], ['1974'], ['1975'], ['1976'], ['1977'], ['1978'], ['1979'], ['198'], ['1980'], ['1981'], ['1982'], ['1983'], ['1984'], ['1985'], ['1986'], ['1987'], ['1988'], ['1989'], ['199'], ['1990'], ['1991'], ['1992'], ['1993'], ['1994'], ['1995'], ['1996'], ['1997'], ['1998'], ['1999'], ['20'], ['200'], ['2000'], ['2001'], ['2002'], ['2003'], ['2004'], ['2005'], ['2006'], ['2007'], ['2008'], ['2009'], ['201'], ['2010'], ['2011'], ['2012'], ['2013'], ['2014'], ['2015'], ['2016'], ['2017'], ['2018'], ['2019'], ['202'], ['2020'], ['2021'], ['2022'], ['2023'], ['2024'], ['2025'], ['2026'], ['2027'], ['2028'], ['2029'], ['203'], ['2030'], ['2031'], ['2032'], ['2033'], ['2034'], ['2035'], ['2036'], ['2037'], ['2038'], ['2039'], ['204'], ['2040'], ['2041'], ['2042'], ['2043'], ['2044'], ['2045'], ['2046'], ['2047'], ['2048'], ['2049'], ['205'], ['2050'], ['2051'], ['2052'], ['2053'], ['2054'], ['2055'], ['2056'], ['2057'], ['2058'], ['2059'], ['206'], ['2060'], ['2061'], ['2062'], ['2063'], ['2064'], ['2065'], ['2066'], ['2067'], ['2068'], ['2069'], ['207'], ['2070'], ['2071'], ['2072'], ['2073'], ['2074'], ['2075'], ['2076'], ['2077'], ['2078'], ['2079'], ['208'], ['2080'], ['2081'], ['2082'], ['2083'], ['2084'], ['2085'], ['2086'], ['2087'], ['2088'], ['2089'], ['209'], ['2090'], ['2091'], ['2092'], ['2093'], ['2094'], ['2095'], ['2096'], ['2097'], ['2098'], ['2099'], ['21'], ['210'], ['2100'], ['2101'], ['2102'], ['2103'], ['2104'], ['2105'], ['2106'], ['2107'], ['2108'], ['2109'], ['211'], ['2110'], ['2111'], ['2112'], ['2113'], ['2114'], ['2115'], ['2116'], ['2117'], ['2118'], ['2119'], ['212'], ['2120'], ['2121'], ['2122'], ['2123'], ['2124'], ['2125'], ['2126'], ['2127'], ['2128'], ['2129'], ['213'], ['2130'], ['2131'], ['2132'], ['2133'], ['2134'], ['2135'], ['2136'], ['2137'], ['2138'], ['2139'], ['214'], ['2140'], ['2141'], ['2142'], ['2143'], ['2144'], ['2145'], ['2146'], ['2147'], ['2148'], ['2149'], ['2150'], ['2151'], ['2152'], ['2153'], ['2154'], ['2155'], ['2156'], ['2157'], ['2158'], ['2159'], ['216'], ['2160'], ['2161'], ['2162'], ['2163'], ['2164'], ['2165'], ['2166'], ['2167'], ['2168'], ['2169'], ['217'], ['2170'], ['2171'], ['2172'], ['2173'], ['2174'], ['2176'], ['2177'], ['2178'], ['2179'], ['218'], ['2180'], ['2181'], ['2182'], ['2183'], ['2184'], ['2185'], ['2186'], ['2187'], ['2188'], ['2189'], ['219'], ['2190'], ['2191'], ['2192'], ['2193'], ['2194'], ['2195'], ['2196'], ['2197'], ['2198'], ['2199'], ['22'], ['220'], ['2200'], ['2201'], ['2202'], ['2203'], ['2204'], ['2205'], ['2206'], ['2207'], ['2208'], ['2209'], ['221'], ['2210'], ['2211'], ['2212'], ['2213'], ['2214'], ['2215'], ['2216'], ['2217'], ['2218'], ['2219'], ['222'], ['2220'], ['2221'], ['2222'], ['2223'], ['2224'], ['2225'], ['2226'], ['2227'], ['2228'], ['2229'], ['223'], ['2230'], ['2231'], ['2232'], ['2233'], ['2234'], ['2235'], ['2236'], ['2237'], ['2238'], ['2239'], ['224'], ['2240'], ['2241'], ['2242'], ['2243'], ['2244'], ['2245'], ['2246'], ['2247'], ['2248'], ['2249'], ['225'], ['2250'], ['2251'], ['2252'], ['2253'], ['2254'], ['2255'], ['2256'], ['2257'], ['2258'], ['2259'], ['226'], ['2260'], ['2261'], ['2262'], ['2263'], ['2264'], ['2265'], ['2266'], ['2267'], ['2268'], ['2269'], ['227'], ['2270'], ['2271'], ['2272'], ['2273'], ['2274'], ['2275'], ['2276'], ['2277'], ['2278'], ['2279'], ['228'], ['2280'], ['2281'], ['2282'], ['2283'], ['2284'], ['2285'], ['2286'], ['2287'], ['2288'], ['2289'], ['229'], ['2290'], ['2291'], ['2292'], ['2293'], ['2294'], ['2295'], ['2296'], ['2297'], ['2298'], ['2299'], ['23'], ['230'], ['2300'], ['2301'], ['2302'], ['2303'], ['2304'], ['2305'], ['2306'], ['2307'], ['2308'], ['2309'], ['231'], ['2310'], ['2311'], ['2312'], ['2313'], ['2314'], ['2315'], ['2316'], ['2317'], ['2318'], ['2319'], ['232'], ['2320'], ['2321'], ['2322'], ['2323'], ['2324'], ['2325'], ['2326'], ['2327'], ['2328'], ['2329'], ['233'], ['2330'], ['2331'], ['2332'], ['2333'], ['2334'], ['2335'], ['2336'], ['2337'], ['2338'], ['2339'], ['234'], ['2340'], ['2341'], ['2342'], ['2343'], ['2344'], ['2345'], ['2346'], ['2347'], ['2348'], ['2349'], ['235'], ['2350'], ['2351'], ['2352'], ['2353'], ['2354'], ['2355'], ['2356'], ['2357'], ['2358'], ['2359'], ['236'], ['2360'], ['2361'], ['2362'], ['2363'], ['2364'], ['2365'], ['2366'], ['2367'], ['2368'], ['2369'], ['237'], ['2370'], ['2371'], ['2372'], ['2373'], ['2374'], ['2375'], ['2376'], ['2377'], ['2378'], ['2379'], ['238'], ['2380'], ['2381'], ['2382'], ['2383'], ['2384'], ['2385'], ['2386'], ['2387'], ['2388'], ['2389'], ['239'], ['2390'], ['2391'], ['2392'], ['2393'], ['2394'], ['2395'], ['2396'], ['2397'], ['2398'], ['2399'], ['24'], ['240'], ['2400'], ['2401'], ['2402'], ['2403'], ['2404'], ['2405'], ['2406'], ['2407'], ['2408'], ['2409'], ['241'], ['2410'], ['2411'], ['2412'], ['2413'], ['2414'], ['2415'], ['2416'], ['2417'], ['2418'], ['2419'], ['242'], ['2420'], ['2421'], ['2422'], ['2423'], ['2424'], ['2425'], ['2426'], ['2427'], ['2428'], ['2429'], ['243'], ['2430'], ['2431'], ['2432'], ['2433'], ['2434'], ['2435'], ['2436'], ['2437'], ['2438'], ['2439'], ['244'], ['2440'], ['2441'], ['2443'], ['2444'], ['2445'], ['2446'], ['2447'], ['2448'], ['2449'], ['245'], ['2450'], ['2451'], ['2452'], ['2453'], ['2454'], ['2455'], ['2456'], ['2457'], ['2458'], ['2459'], ['246'], ['2460'], ['2461'], ['2462'], ['2463'], ['2464'], ['2465'], ['2466'], ['2467'], ['2468'], ['2469'], ['247'], ['2470'], ['2471'], ['2472'], ['2473'], ['2474'], ['2475'], ['2476'], ['2477'], ['2478'], ['2479'], ['248'], ['2480'], ['2481'], ['2482'], ['2483'], ['2484'], ['2485'], ['2486'], ['2487'], ['2488'], ['2489'], ['249'], ['2490'], ['2491'], ['2492'], ['2493'], ['2494'], ['2495'], ['2496'], ['2497'], ['2498'], ['2499'], ['25'], ['250'], ['2500'], ['251'], ['252'], ['253'], ['254'], ['255'], ['256'], ['257'], ['258'], ['259'], ['26'], ['260'], ['261'], ['262'], ['263'], ['264'], ['265'], ['266'], ['267'], ['268'], ['269'], ['27'], ['270'], ['271'], ['272'], ['273'], ['274'], ['275'], ['276'], ['277'], ['278'], ['279'], ['28'], ['280'], ['281'], ['282'], ['283'], ['284'], ['285'], ['286'], ['287'], ['288'], ['289'], ['29'], ['290'], ['291'], ['292'], ['293'], ['294'], ['295'], ['296'], ['297'], ['298'], ['299'], ['3'], ['30'], ['300'], ['301'], ['302'], ['303'], ['304'], ['305'], ['306'], ['307'], ['308'], ['309'], ['31'], ['310'], ['311'], ['312'], ['313'], ['314'], ['315'], ['316'], ['317'], ['318'], ['319'], ['32'], ['320'], ['321'], ['322'], ['323'], ['324'], ['325'], ['326'], ['327'], ['328'], ['329'], ['33'], ['330'], ['331'], ['332'], ['333'], ['334'], ['335'], ['336'], ['337'], ['338'], ['339'], ['34'], ['340'], ['341'], ['342'], ['343'], ['344'], ['345'], ['346'], ['347'], ['348'], ['349'], ['35'], ['350'], ['351'], ['352'], ['353'], ['354'], ['355'], ['356'], ['357'], ['358'], ['359'], ['36'], ['360'], ['361'], ['362'], ['363'], ['364'], ['365'], ['366'], ['367'], ['368'], ['369'], ['37'], ['370'], ['371'], ['372'], ['373'], ['374'], ['375'], ['376'], ['377'], ['378'], ['379'], ['38'], ['380'], ['381'], ['382'], ['383'], ['384'], ['385'], ['386'], ['387'], ['388'], ['389'], ['39'], ['390'], ['391'], ['392'], ['393'], ['394'], ['395'], ['396'], ['397'], ['398'], ['399'], ['4'], ['40'], ['400'], ['401'], ['402'], ['403'], ['404'], ['405'], ['406'], ['407'], ['408'], ['409'], ['41'], ['410'], ['411'], ['412'], ['413'], ['414'], ['415'], ['416'], ['417'], ['418'], ['419'], ['42'], ['420'], ['421'], ['422'], ['423'], ['424'], ['425'], ['426'], ['427'], ['428'], ['429'], ['43'], ['430'], ['431'], ['432'], ['433'], ['434'], ['435'], ['436'], ['437'], ['438'], ['439'], ['44'], ['440'], ['441'], ['442'], ['443'], ['444'], ['445'], ['446'], ['447'], ['448'], ['449'], ['45'], ['450'], ['451'], ['452'], ['453'], ['454'], ['455'], ['456'], ['457'], ['458'], ['459'], ['46'], ['460'], ['461'], ['462'], ['463'], ['464'], ['465'], ['466'], ['467'], ['468'], ['469'], ['47'], ['470'], ['471'], ['472'], ['473'], ['474'], ['475'], ['476'], ['477'], ['478'], ['479'], ['48'], ['480'], ['481'], ['482'], ['483'], ['484'], ['485'], ['486'], ['487'], ['488'], ['489'], ['49'], ['490'], ['491'], ['492'], ['493'], ['494'], ['495'], ['496'], ['497'], ['498'], ['499'], ['5'], ['50'], ['500'], ['501'], ['502'], ['503'], ['504'], ['505'], ['506'], ['507'], ['508'], ['509'], ['51'], ['510'], ['511'], ['512'], ['513'], ['514'], ['515'], ['516'], ['517'], ['518'], ['519'], ['52'], ['520'], ['521'], ['522'], ['523'], ['524'], ['525'], ['526'], ['527'], ['528'], ['529'], ['53'], ['530'], ['531'], ['532'], ['533'], ['534'], ['535'], ['536'], ['537'], ['538'], ['539'], ['54'], ['540'], ['541'], ['542'], ['543'], ['544'], ['545'], ['546'], ['547'], ['549'], ['55'], ['550'], ['551'], ['552'], ['553'], ['554'], ['555'], ['556'], ['557'], ['558'], ['559'], ['56'], ['560'], ['561'], ['562'], ['563'], ['564'], ['565'], ['566'], ['567'], ['568'], ['569'], ['57'], ['570'], ['571'], ['572'], ['573'], ['574'], ['575'], ['576'], ['577'], ['578'], ['579'], ['58'], ['580'], ['581'], ['582'], ['583'], ['584'], ['585'], ['586'], ['587'], ['588'], ['589'], ['59'], ['590'], ['591'], ['592'], ['593'], ['594'], ['595'], ['596'], ['597'], ['598'], ['599'], ['6'], ['60'], ['600'], ['601'], ['602'], ['603'], ['604'], ['605'], ['606'], ['607'], ['608'], ['609'], ['61'], ['610'], ['611'], ['612'], ['613'], ['614'], ['615'], ['616'], ['617'], ['618'], ['619'], ['62'], ['620'], ['621'], ['622'], ['623'], ['624'], ['625'], ['626'], ['627'], ['628'], ['629'], ['63'], ['630'], ['631'], ['632'], ['633'], ['634'], ['635'], ['636'], ['637'], ['638'], ['639'], ['64'], ['640'], ['641'], ['642'], ['643'], ['644'], ['645'], ['646'], ['647'], ['648'], ['649'], ['65'], ['650'], ['651'], ['652'], ['653'], ['654'], ['655'], ['656'], ['657'], ['658'], ['659'], ['66'], ['660'], ['661'], ['662'], ['663'], ['664'], ['665'], ['666'], ['667'], ['668'], ['669'], ['67'], ['670'], ['671'], ['672'], ['673'], ['674'], ['675'], ['676'], ['677'], ['678'], ['679'], ['68'], ['680'], ['681'], ['682'], ['683'], ['684'], ['685'], ['686'], ['687'], ['688'], ['689'], ['69'], ['690'], ['691'], ['692'], ['693'], ['694'], ['695'], ['696'], ['697'], ['698'], ['699'], ['7'], ['70'], ['700'], ['701'], ['702'], ['703'], ['704'], ['705'], ['706'], ['707'], ['708'], ['709'], ['71'], ['710'], ['711'], ['712'], ['713'], ['714'], ['715'], ['716'], ['717'], ['718'], ['719'], ['72'], ['720'], ['721'], ['722'], ['723'], ['724'], ['725'], ['726'], ['727'], ['728'], ['729'], ['73'], ['730'], ['731'], ['732'], ['733'], ['734'], ['735'], ['736'], ['737'], ['738'], ['739'], ['74'], ['740'], ['741'], ['742'], ['743'], ['744'], ['745'], ['746'], ['747'], ['748'], ['749'], ['75'], ['750'], ['751'], ['752'], ['753'], ['754'], ['755'], ['756'], ['757'], ['758'], ['759'], ['76'], ['760'], ['761'], ['762'], ['763'], ['764'], ['765'], ['766'], ['767'], ['768'], ['769'], ['77'], ['770'], ['771'], ['772'], ['773'], ['774'], ['775'], ['776'], ['777'], ['778'], ['779'], ['78'], ['780'], ['781'], ['782'], ['783'], ['784'], ['785'], ['786'], ['787'], ['788'], ['789'], ['79'], ['790'], ['791'], ['792'], ['793'], ['794'], ['795'], ['796'], ['797'], ['798'], ['799'], ['8'], ['80'], ['800'], ['801'], ['802'], ['803'], ['804'], ['805'], ['806'], ['807'], ['808'], ['809'], ['81'], ['810'], ['811'], ['9'], ['812'], ['813'], ['814'], ['815'], ['816'], ['817'], ['818'], ['819'], ['82'], ['820'], ['821'], ['822'], ['823'], ['824'], ['825'], ['826'], ['827'], ['828'], ['829'], ['83'], ['830'], ['831'], ['832'], ['833'], ['834'], ['835'], ['836'], ['837'], ['838'], ['839'], ['84'], ['840'], ['841'], ['842'], ['843'], ['844'], ['845'], ['846'], ['847'], ['848'], ['849'], ['85'], ['850'], ['851'], ['852'], ['853'], ['854'], ['855'], ['856'], ['857'], ['858'], ['859'], ['86'], ['860'], ['861'], ['862'], ['863'], ['864'], ['865'], ['866'], ['867'], ['868'], ['869'], ['87'], ['870'], ['871'], ['872'], ['873'], ['874'], ['875'], ['876'], ['877'], ['878'], ['879'], ['88'], ['880'], ['881'], ['882'], ['883'], ['884'], ['885'], ['886'], ['887'], ['888'], ['889'], ['89'], ['890'], ['891'], ['892'], ['893'], ['894'], ['895'], ['896'], ['897'], ['898'], ['899'], ['90'], ['900'], ['901'], ['902'], ['903'], ['904'], ['905'], ['906'], ['907'], ['908'], ['91'], ['910'], ['911'], ['912'], ['913'], ['914'], ['915'], ['916'], ['917'], ['918'], ['919'], ['92'], ['920'], ['921'], ['922'], ['923'], ['924'], ['925'], ['926'], ['927'], ['928'], ['929'], ['93'], ['930'], ['931'], ['932'], ['933'], ['934'], ['935'], ['936'], ['937'], ['938'], ['939'], ['94'], ['940'], ['941'], ['942'], ['943'], ['944'], ['945'], ['946'], ['947'], ['948'], ['949'], ['95'], ['950'], ['951'], ['952'], ['953'], ['954'], ['955'], ['956'], ['957'], ['958'], ['959'], ['96'], ['960'], ['961'], ['962'], ['963'], ['964'], ['965'], ['966'], ['967'], ['968'], ['969'], ['97'], ['970'], ['971'], ['972'], ['973'], ['974'], ['975'], ['976'], ['977'], ['978'], ['979'], ['98'], ['980'], ['981'], ['982'], ['983'], ['984'], ['985'], ['986'], ['987'], ['988'], ['989'], ['99'], ['990'], ['991'], ['992'], ['993'], ['994'], ['995'], ['996'], ['997'], ['998'], ['999']]\n"
     ]
    }
   ],
   "source": [
    "o = unlabel_y.argmax(axis=1)\n",
    "print(o)\n",
    "print(ID)"
   ]
  },
  {
   "cell_type": "code",
   "execution_count": 40,
   "metadata": {
    "colab": {},
    "colab_type": "code",
    "id": "lWi2DC5ip20V"
   },
   "outputs": [],
   "source": [
    "table = []\n",
    "table.append([\"ID\",\"Class\"])\n",
    "for i,num in enumerate(o):\n",
    "    table.append([ int(ID[i][0]), int(num)])"
   ]
  },
  {
   "cell_type": "code",
   "execution_count": 41,
   "metadata": {
    "colab": {},
    "colab_type": "code",
    "id": "QquKau5SqPiM"
   },
   "outputs": [],
   "source": [
    "import csv\n",
    "with open('output.csv', 'w', newline='') as csvfile:\n",
    "  writer = csv.writer(csvfile)\n",
    "\n",
    "  writer.writerows(table)"
   ]
  },
  {
   "cell_type": "code",
   "execution_count": 79,
   "metadata": {
    "colab": {
     "base_uri": "https://localhost:8080/",
     "height": 35
    },
    "colab_type": "code",
    "executionInfo": {
     "elapsed": 2145,
     "status": "ok",
     "timestamp": 1573416209193,
     "user": {
      "displayName": "俊廷葉",
      "photoUrl": "",
      "userId": "01226195771165217743"
     },
     "user_tz": -480
    },
    "id": "ZfgTKQb2q-UQ",
    "outputId": "c919d501-f93d-4c4d-bdbb-33c6bad934d4"
   },
   "outputs": [
    {
     "name": "stdout",
     "output_type": "stream",
     "text": [
      "coic3.zip  finaltest  output.csv  sample_data  train  train_labels.csv\n"
     ]
    }
   ],
   "source": [
    "!ls"
   ]
  },
  {
   "cell_type": "code",
   "execution_count": null,
   "metadata": {},
   "outputs": [],
   "source": []
  }
 ],
 "metadata": {
  "accelerator": "GPU",
  "colab": {
   "machine_shape": "hm",
   "name": "Untitled0.ipynb",
   "provenance": []
  },
  "kernelspec": {
   "display_name": "Python 3",
   "language": "python",
   "name": "python3"
  },
  "language_info": {
   "codemirror_mode": {
    "name": "ipython",
    "version": 3
   },
   "file_extension": ".py",
   "mimetype": "text/x-python",
   "name": "python",
   "nbconvert_exporter": "python",
   "pygments_lexer": "ipython3",
   "version": "3.6.7"
  }
 },
 "nbformat": 4,
 "nbformat_minor": 4
}
