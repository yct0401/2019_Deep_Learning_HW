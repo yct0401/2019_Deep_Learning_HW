{
 "cells": [
  {
   "cell_type": "code",
   "execution_count": 41,
   "metadata": {},
   "outputs": [],
   "source": [
    "import numpy as np\n",
    "import tensorflow as tf\n",
    "import matplotlib.pyplot as plt\n",
    "from mlxtend.data import loadlocal_mnist"
   ]
  },
  {
   "cell_type": "code",
   "execution_count": 36,
   "metadata": {},
   "outputs": [
    {
     "data": {
      "text/plain": [
       "'2.0.0'"
      ]
     },
     "execution_count": 36,
     "metadata": {},
     "output_type": "execute_result"
    }
   ],
   "source": [
    "tf.__version__"
   ]
  },
  {
   "cell_type": "code",
   "execution_count": 155,
   "metadata": {},
   "outputs": [],
   "source": [
    "x_train, y_train = loadlocal_mnist(images_path='./train-images-idx3-ubyte', labels_path='./train-labels-idx1-ubyte')\n",
    "x_test, y_test = loadlocal_mnist(images_path='./test-images-idx3-ubyte', labels_path='./test-labels-idx1-ubyte')"
   ]
  },
  {
   "cell_type": "code",
   "execution_count": 156,
   "metadata": {},
   "outputs": [],
   "source": [
    "y_TrainOneHot = tf.keras.utils.to_categorical(y_train)\n",
    "y_TestOneHot  = tf.keras.utils.to_categorical(y_test)"
   ]
  },
  {
   "cell_type": "code",
   "execution_count": 157,
   "metadata": {},
   "outputs": [
    {
     "data": {
      "text/plain": [
       "((18225, 784), dtype('uint8'))"
      ]
     },
     "execution_count": 157,
     "metadata": {},
     "output_type": "execute_result"
    }
   ],
   "source": [
    "x_train.shape, x_train.dtype"
   ]
  },
  {
   "cell_type": "code",
   "execution_count": 158,
   "metadata": {},
   "outputs": [],
   "source": [
    "x_train = (x_train-127.5)/127.5\n",
    "x_test = (x_test-127.5)/127.5"
   ]
  },
  {
   "cell_type": "code",
   "execution_count": 159,
   "metadata": {},
   "outputs": [],
   "source": [
    "x_train = tf.reshape(x_train, shape=[-1, 28, 28, 1])\n",
    "x_test = tf.reshape(x_test, shape=[-1, 28, 28, 1])"
   ]
  },
  {
   "cell_type": "code",
   "execution_count": 160,
   "metadata": {},
   "outputs": [
    {
     "data": {
      "text/plain": [
       "(TensorShape([18225, 28, 28, 1]), TensorShape([4563, 28, 28, 1]))"
      ]
     },
     "execution_count": 160,
     "metadata": {},
     "output_type": "execute_result"
    }
   ],
   "source": [
    "x_train.shape, x_test.shape"
   ]
  },
  {
   "cell_type": "code",
   "execution_count": 161,
   "metadata": {},
   "outputs": [
    {
     "data": {
      "text/plain": [
       "((18225, 10), (4563, 10))"
      ]
     },
     "execution_count": 161,
     "metadata": {},
     "output_type": "execute_result"
    }
   ],
   "source": [
    "y_TrainOneHot.shape, y_TestOneHot.shape"
   ]
  },
  {
   "cell_type": "code",
   "execution_count": 165,
   "metadata": {},
   "outputs": [],
   "source": [
    "model = tf.keras.models.Sequential([\n",
    "    tf.keras.layers.Conv2D(32, 3, activation='relu', padding = 'SAME', input_shape = (28,28,1)),\n",
    "    tf.keras.layers.MaxPooling2D(pool_size=(2,2)),\n",
    "    tf.keras.layers.Conv2D(64, 3, activation='relu', padding = 'SAME'),\n",
    "    tf.keras.layers.MaxPooling2D(pool_size=(2,2)),\n",
    "    tf.keras.layers.Conv2D(64, 3, activation='relu', padding = 'SAME'),\n",
    "    tf.keras.layers.MaxPooling2D(pool_size=(2,2)),\n",
    "    tf.keras.layers.Flatten(),\n",
    "    tf.keras.layers.Dense(128, activation='relu'),\n",
    "    tf.keras.layers.Dense(10, activation='softmax')    \n",
    "])"
   ]
  },
  {
   "cell_type": "code",
   "execution_count": 166,
   "metadata": {},
   "outputs": [],
   "source": [
    "optimizer = tf.keras.optimizers.SGD(learning_rate=1e-3)\n",
    "model.compile(optimizer=\"adam\", loss='categorical_crossentropy', metrics=['accuracy'])"
   ]
  },
  {
   "cell_type": "code",
   "execution_count": 167,
   "metadata": {},
   "outputs": [
    {
     "name": "stdout",
     "output_type": "stream",
     "text": [
      "Train on 18225 samples, validate on 4563 samples\n",
      "Epoch 1/10\n",
      "18225/18225 [==============================] - 18s 1ms/sample - loss: 0.2504 - accuracy: 0.9231 - val_loss: 0.0376 - val_accuracy: 0.9897\n",
      "Epoch 2/10\n",
      "18225/18225 [==============================] - 18s 965us/sample - loss: 0.0604 - accuracy: 0.9806 - val_loss: 0.0216 - val_accuracy: 0.9936\n",
      "Epoch 3/10\n",
      "18225/18225 [==============================] - 18s 978us/sample - loss: 0.0371 - accuracy: 0.9880 - val_loss: 0.0213 - val_accuracy: 0.9932\n",
      "Epoch 4/10\n",
      "18225/18225 [==============================] - 18s 966us/sample - loss: 0.0301 - accuracy: 0.9902 - val_loss: 0.0232 - val_accuracy: 0.9930\n",
      "Epoch 5/10\n",
      "18225/18225 [==============================] - 18s 975us/sample - loss: 0.0207 - accuracy: 0.9935 - val_loss: 0.0160 - val_accuracy: 0.9950\n",
      "Epoch 6/10\n",
      "18225/18225 [==============================] - 18s 966us/sample - loss: 0.0188 - accuracy: 0.9940 - val_loss: 0.0458 - val_accuracy: 0.9864\n",
      "Epoch 7/10\n",
      "18225/18225 [==============================] - 18s 967us/sample - loss: 0.0131 - accuracy: 0.9954 - val_loss: 0.0319 - val_accuracy: 0.9923\n",
      "Epoch 8/10\n",
      "18225/18225 [==============================] - 18s 966us/sample - loss: 0.0170 - accuracy: 0.9943 - val_loss: 0.0308 - val_accuracy: 0.9904\n",
      "Epoch 9/10\n",
      "18225/18225 [==============================] - 18s 961us/sample - loss: 0.0117 - accuracy: 0.9963 - val_loss: 0.0235 - val_accuracy: 0.9936\n",
      "Epoch 10/10\n",
      "18225/18225 [==============================] - 18s 970us/sample - loss: 0.0066 - accuracy: 0.9976 - val_loss: 0.0202 - val_accuracy: 0.9958\n"
     ]
    },
    {
     "data": {
      "text/plain": [
       "<tensorflow.python.keras.callbacks.History at 0x7f0398b9f860>"
      ]
     },
     "execution_count": 167,
     "metadata": {},
     "output_type": "execute_result"
    }
   ],
   "source": [
    "model.fit(x_train, y_TrainOneHot, epochs=10, validation_data=(x_test, y_TestOneHot))"
   ]
  },
  {
   "cell_type": "code",
   "execution_count": 168,
   "metadata": {},
   "outputs": [],
   "source": [
    "x_final, y_n = loadlocal_mnist(images_path='./final-test-images-idx3-ubyte', labels_path='./test-labels-idx1-ubyte')"
   ]
  },
  {
   "cell_type": "code",
   "execution_count": 169,
   "metadata": {},
   "outputs": [
    {
     "data": {
      "text/plain": [
       "TensorShape([4563, 28, 28, 1])"
      ]
     },
     "execution_count": 169,
     "metadata": {},
     "output_type": "execute_result"
    }
   ],
   "source": [
    "x_final = (x_final-127.5)/127.5\n",
    "x_final = tf.reshape(x_final, shape=[-1, 28, 28, 1])\n",
    "x_final.shape\n"
   ]
  },
  {
   "cell_type": "code",
   "execution_count": 170,
   "metadata": {},
   "outputs": [],
   "source": [
    "y_final = model.predict(x_final)"
   ]
  },
  {
   "cell_type": "code",
   "execution_count": 171,
   "metadata": {},
   "outputs": [
    {
     "data": {
      "text/plain": [
       "(4563, 10)"
      ]
     },
     "execution_count": 171,
     "metadata": {},
     "output_type": "execute_result"
    }
   ],
   "source": [
    "y_final.shape"
   ]
  },
  {
   "cell_type": "code",
   "execution_count": 172,
   "metadata": {},
   "outputs": [],
   "source": [
    "o = y_final.argmax(axis=1)\n",
    "len(o)\n",
    "n = list(range(1, len(o)+1))"
   ]
  },
  {
   "cell_type": "code",
   "execution_count": 173,
   "metadata": {},
   "outputs": [],
   "source": [
    "import csv\n",
    "with open('output.csv', 'w', newline='') as csvfile:\n",
    "    writer = csv.writer(csvfile)\n",
    "    writer.writerow(['ID','Class'])\n",
    "    for i in range(len(o)):\n",
    "        writer.writerow([str(i+1),str(o[i])])"
   ]
  },
  {
   "cell_type": "code",
   "execution_count": null,
   "metadata": {},
   "outputs": [],
   "source": []
  },
  {
   "cell_type": "code",
   "execution_count": null,
   "metadata": {},
   "outputs": [],
   "source": []
  }
 ],
 "metadata": {
  "kernelspec": {
   "display_name": "Python 3",
   "language": "python",
   "name": "python3"
  },
  "language_info": {
   "codemirror_mode": {
    "name": "ipython",
    "version": 3
   },
   "file_extension": ".py",
   "mimetype": "text/x-python",
   "name": "python",
   "nbconvert_exporter": "python",
   "pygments_lexer": "ipython3",
   "version": "3.6.7"
  }
 },
 "nbformat": 4,
 "nbformat_minor": 4
}
